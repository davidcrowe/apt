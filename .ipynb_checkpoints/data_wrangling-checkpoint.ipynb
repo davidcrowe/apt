{
 "cells": [
  {
   "cell_type": "code",
   "execution_count": 1,
   "metadata": {},
   "outputs": [
    {
     "name": "stderr",
     "output_type": "stream",
     "text": [
      "/anaconda3/lib/python3.6/site-packages/IPython/core/interactiveshell.py:2785: DtypeWarning: Columns (3,4,18,29) have mixed types. Specify dtype option on import or set low_memory=False.\n",
      "  interactivity=interactivity, compiler=compiler, result=result)\n"
     ]
    },
    {
     "data": {
      "text/plain": [
       "array(['Unnamed: 0', 'MLSNUM', 'STATUS', 'LISTPRICE', 'SOLDPRICE',\n",
       "       'LISTDATE', 'SOLDDATE', 'EXPIREDDATE', 'DOM', 'DTO', 'ADDRESS',\n",
       "       'CITY', 'STATE', 'ZIP', 'AREA', 'BEDS', 'BATHS', 'SQFT', 'AGE',\n",
       "       'LOTSIZE', 'AGENTNAME', 'OFFICENAME', 'OFFICEPHONE',\n",
       "       'SHOWINGINSTRUCTIONS', 'REMARKS', 'STYLE', 'LEVEL', 'GARAGE',\n",
       "       'HEATING', 'COOLING', 'ELEMENTARYSCHOOL', 'JUNIORHIGHSCHOOL',\n",
       "       'HIGHSCHOOL', 'OTHERFEATURES', 'PROPTYPE', 'STREETNAME',\n",
       "       'HOUSENUM1', 'HOUSENUM2', 'PHOTOURL'], dtype=object)"
      ]
     },
     "execution_count": 1,
     "metadata": {},
     "output_type": "execute_result"
    }
   ],
   "source": [
    "import pandas as pd\n",
    "import numpy as np\n",
    "\n",
    "col_names = pd.read_csv(\"static/data/MERGE_CON_SOLD.csv\").columns.values\n",
    "\n",
    "col_names"
   ]
  },
  {
   "cell_type": "code",
   "execution_count": 2,
   "metadata": {},
   "outputs": [
    {
     "name": "stderr",
     "output_type": "stream",
     "text": [
      "/anaconda3/lib/python3.6/site-packages/IPython/core/interactiveshell.py:2785: DtypeWarning: Columns (3) have mixed types. Specify dtype option on import or set low_memory=False.\n",
      "  interactivity=interactivity, compiler=compiler, result=result)\n"
     ]
    },
    {
     "data": {
      "text/plain": [
       "(41690, 7)"
      ]
     },
     "execution_count": 2,
     "metadata": {},
     "output_type": "execute_result"
    }
   ],
   "source": [
    "use_cols = ['MLSNUM', 'ZIP', 'BEDS', 'BATHS', 'SQFT', 'LISTPRICE', 'PHOTOURL']\n",
    "properties = pd.read_csv('static/data/MERGE_CON_SOLD.csv', usecols=use_cols)\n",
    "properties.shape\n"
   ]
  },
  {
   "cell_type": "code",
   "execution_count": null,
   "metadata": {},
   "outputs": [],
   "source": [
    "## format the zip column properly\n",
    "properties['ZIP'] = properties['ZIP'].apply(lambda x: '{:0>5s}'.format(str(x)))\n",
    "\n",
    "## export new dataset to a csv file\n",
    "properties.to_csv('static/data/properties.csv', index=None)"
   ]
  }
 ],
 "metadata": {
  "kernelspec": {
   "display_name": "Python 3",
   "language": "python",
   "name": "python3"
  },
  "language_info": {
   "codemirror_mode": {
    "name": "ipython",
    "version": 3
   },
   "file_extension": ".py",
   "mimetype": "text/x-python",
   "name": "python",
   "nbconvert_exporter": "python",
   "pygments_lexer": "ipython3",
   "version": "3.6.5"
  }
 },
 "nbformat": 4,
 "nbformat_minor": 2
}
