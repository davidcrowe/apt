{
 "cells": [
  {
   "cell_type": "code",
   "execution_count": null,
   "metadata": {},
   "outputs": [],
   "source": [
    "# This file should work as a function that receives an image as input and returns \n",
    "# characteristics of that picture in order to compare against other pictures within our data.\n",
    "\n",
    "import keras\n",
    "import KerasModelImport from keras\n",
    "import importKerasModelAndWeights from KerasModelImport\n",
    "\n",
    "#Load Pretrained CNN \n",
    "ComputationGraph model = KerasModelImport.importKerasModelAndWeights(modelJsonFilename, weightsHdf5Filename, enforceTrainingConfig);\n",
    "\n",
    "#Setting image size\n",
    "ImageRecordReader rr = new ImageRecordReader(224,224,3);\n",
    "\n",
    "#Perform a Data Split\n",
    "\n",
    "#Train Model with set of images from database\n",
    "\n",
    "#Test with set of images from database\n",
    "\n",
    "#Create function that implements model to extract features from files.\n",
    "\n",
    "#Export PKL file"
   ]
  }
 ],
 "metadata": {
  "kernelspec": {
   "display_name": "Python 3",
   "language": "python",
   "name": "python3"
  },
  "language_info": {
   "codemirror_mode": {
    "name": "ipython",
    "version": 3
   },
   "file_extension": ".py",
   "mimetype": "text/x-python",
   "name": "python",
   "nbconvert_exporter": "python",
   "pygments_lexer": "ipython3",
   "version": "3.7.3"
  }
 },
 "nbformat": 4,
 "nbformat_minor": 2
}
